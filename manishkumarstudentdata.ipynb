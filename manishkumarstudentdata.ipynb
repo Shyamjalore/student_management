{
  "nbformat": 4,
  "nbformat_minor": 0,
  "metadata": {
    "colab": {
      "provenance": [],
      "authorship_tag": "ABX9TyO8oO190zotfQCKghKG2HH2",
      "include_colab_link": true
    },
    "kernelspec": {
      "name": "python3",
      "display_name": "Python 3"
    },
    "language_info": {
      "name": "python"
    }
  },
  "cells": [
    {
      "cell_type": "markdown",
      "metadata": {
        "id": "view-in-github",
        "colab_type": "text"
      },
      "source": [
        "<a href=\"https://colab.research.google.com/github/Shyamjalore/newgit/blob/main/manishkumarstudentdata.ipynb\" target=\"_parent\"><img src=\"https://colab.research.google.com/assets/colab-badge.svg\" alt=\"Open In Colab\"/></a>"
      ]
    },
    {
      "cell_type": "code",
      "source": [
        "students = [\n",
        "    {\n",
        "        \"name\": \"jatin\",\n",
        "        \"age\": 20,\n",
        "        \"grade\": \"A\"\n",
        "    },\n",
        "    {\n",
        "        \"name\": \"manish\",\n",
        "        \"age\": 21,\n",
        "        \"grade\": \"B\"\n",
        "    },\n",
        "    {\n",
        "        \"name\": \"iti\",\n",
        "        \"age\": 19,\n",
        "        \"grade\": \"A\"\n",
        "    }\n",
        "]"
      ],
      "metadata": {
        "id": "-B3jadJkX50w"
      },
      "execution_count": 3,
      "outputs": []
    },
    {
      "cell_type": "code",
      "source": [
        "# Function to search for a student by name\n",
        "def search_student_by_name(student_list, target_name):\n",
        "    for student in student_list:\n",
        "        if student[\"name\"] == target_name:\n",
        "            return student\n",
        "    return None  # Return None if student is not found"
      ],
      "metadata": {
        "id": "Ya83E1otX_l8"
      },
      "execution_count": 4,
      "outputs": []
    },
    {
      "cell_type": "code",
      "source": [
        "target_name = \"manish\"\n",
        "found_student = search_student_by_name(students, target_name)\n",
        "\n",
        "if found_student:\n",
        "    print(\"Student found:\")\n",
        "    print(\"Name:\", found_student[\"name\"])\n",
        "    print(\"Age:\", found_student[\"age\"])\n",
        "    print(\"Grade:\", found_student[\"grade\"])\n",
        "else:\n",
        "    print(\"Student not found.\")"
      ],
      "metadata": {
        "colab": {
          "base_uri": "https://localhost:8080/"
        },
        "id": "85Mi8lXsYFV8",
        "outputId": "4850588e-2a85-4331-e384-0b589e48e977"
      },
      "execution_count": 5,
      "outputs": [
        {
          "output_type": "stream",
          "name": "stdout",
          "text": [
            "Student found:\n",
            "Name: manish\n",
            "Age: 21\n",
            "Grade: B\n"
          ]
        }
      ]
    },
    {
      "cell_type": "code",
      "source": [
        "# Sample student data stored in a dictionary\n",
        "students = [\n",
        "    {\n",
        "        \"name\": \"Mayank\",\n",
        "        \"age\": 20,\n",
        "        \"grade\": \"A\"\n",
        "    },\n",
        "    {\n",
        "        \"name\": \"Manish\",\n",
        "        \"age\": 21,\n",
        "        \"grade\": \"B\"\n",
        "    },\n",
        "    {\n",
        "        \"name\": \"Suresh\",\n",
        "        \"age\": 19,\n",
        "        \"grade\": \"A\"\n",
        "    }\n",
        "]\n",
        "\n",
        "# Function to search for a student by name\n",
        "def search_student_by_name(student_list, target_name):\n",
        "    for student in student_list:\n",
        "        if student[\"name\"] == target_name:\n",
        "            return student\n",
        "    return None  # Return None if student is not found\n",
        "\n",
        "# Search for a specific student\n",
        "target_name = \"Jayesh\"\n",
        "found_student = search_student_by_name(students, target_name)\n",
        "\n",
        "if found_student:\n",
        "    print(\"Student found:\")\n",
        "    print(\"Name:\", found_student[\"name\"])\n",
        "    print(\"Age:\", found_student[\"age\"])\n",
        "    print(\"Grade:\", found_student[\"grade\"])\n",
        "else:\n",
        "    print(\"Student not found.\")"
      ],
      "metadata": {
        "colab": {
          "base_uri": "https://localhost:8080/"
        },
        "id": "rM1-C_OFYN5b",
        "outputId": "b7896e7d-774f-42d2-80c8-b3dc9e1dc4f0"
      },
      "execution_count": 8,
      "outputs": [
        {
          "output_type": "stream",
          "name": "stdout",
          "text": [
            "Student not found.\n"
          ]
        }
      ]
    }
  ]
}